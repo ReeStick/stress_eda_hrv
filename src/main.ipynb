{
 "cells": [
  {
   "cell_type": "code",
   "execution_count": 1,
   "metadata": {},
   "outputs": [],
   "source": [
    "# Imports\n",
    "import pandas as pd\n",
    "import torch\n",
    "import torch.nn as nn\n",
    "import torch.optim as optim\n",
    "from torch.utils.data import DataLoader, Dataset\n",
    "from sklearn.model_selection import train_test_split\n",
    "from sklearn.preprocessing import StandardScaler"
   ]
  },
  {
   "cell_type": "code",
   "execution_count": 2,
   "metadata": {},
   "outputs": [],
   "source": [
    "# Files load\n",
    "eda_file = '../data/eda/swell/combined/classification/combined-swell-classification-eda-dataset.csv'\n",
    "hrv_file = '../data/hrv/swell/combined/classification/combined-swell-classification-hrv-dataset.csv'\n",
    "\n",
    "eda_data = pd.read_csv(eda_file, nrows=60000)\n",
    "hrv_data = pd.read_csv(hrv_file, nrows=60000)\n",
    "\n",
    "merged_data = pd.concat([eda_data, hrv_data], axis=1)"
   ]
  },
  {
   "cell_type": "code",
   "execution_count": 3,
   "metadata": {},
   "outputs": [],
   "source": [
    "# Preprocess\n",
    "merged_data_cleaned = merged_data.dropna()\n",
    "\n",
    "X = merged_data_cleaned.select_dtypes(include=[float, int]).drop(columns=['Condition Label', 'NasaTLX Label'])\n",
    "y = merged_data_cleaned['Condition Label']\n",
    "\n",
    "scaler = StandardScaler()\n",
    "X_scaled = scaler.fit_transform(X)\n",
    "\n",
    "X_tensor = torch.tensor(X_scaled, dtype=torch.float32)\n",
    "y_tensor = torch.tensor(y.values, dtype=torch.long)\n",
    "\n",
    "X_train, X_test, y_train, y_test = train_test_split(X_tensor, y_tensor, test_size=0.2, random_state=42)\n",
    "\n",
    "X_train_cnn = X_train.unsqueeze(1)\n",
    "X_test_cnn = X_test.unsqueeze(1)\n",
    "\n",
    "class EDAHRVDataset(Dataset):\n",
    "    def __init__(self, X, y):\n",
    "        self.X = X\n",
    "        self.y = y\n",
    "\n",
    "    def __len__(self):\n",
    "        return len(self.X)\n",
    "\n",
    "    def __getitem__(self, idx):\n",
    "        return self.X[idx], self.y[idx]\n",
    "\n",
    "train_dataset = EDAHRVDataset(X_train_cnn, y_train)\n",
    "test_dataset = EDAHRVDataset(X_test_cnn, y_test)\n",
    "\n",
    "train_loader = DataLoader(train_dataset, batch_size=32, shuffle=True)\n",
    "test_loader = DataLoader(test_dataset, batch_size=32, shuffle=False)"
   ]
  },
  {
   "cell_type": "code",
   "execution_count": 4,
   "metadata": {},
   "outputs": [],
   "source": [
    "class EDAHRVCNN(nn.Module):\n",
    "    def __init__(self, input_size, num_classes):\n",
    "        super(EDAHRVCNN, self).__init__()\n",
    "        self.conv1 = nn.Conv1d(in_channels=1, out_channels=32, kernel_size=3, padding=1)\n",
    "        self.conv2 = nn.Conv1d(in_channels=32, out_channels=64, kernel_size=3, padding=1)\n",
    "        self.pool = nn.MaxPool1d(2)\n",
    "        \n",
    "        self.fc1 = nn.Linear(64 * (input_size // 2 // 2), 128)\n",
    "        self.fc2 = nn.Linear(128, num_classes)\n",
    "        \n",
    "        self.relu = nn.ReLU()\n",
    "        self.dropout = nn.Dropout(0.5)\n",
    "\n",
    "    def forward(self, x):\n",
    "        x = self.pool(self.relu(self.conv1(x)))\n",
    "        x = self.pool(self.relu(self.conv2(x)))\n",
    "        x = x.view(x.size(0), -1)\n",
    "        x = self.dropout(self.relu(self.fc1(x)))\n",
    "        x = self.fc2(x)\n",
    "        return x\n",
    "\n",
    "input_size = X_train.shape[1]  \n",
    "num_classes = len(torch.unique(y_tensor))  \n",
    "model = EDAHRVCNN(input_size=input_size, num_classes=num_classes)\n",
    "\n",
    "criterion = nn.CrossEntropyLoss()\n",
    "optimizer = optim.Adam(model.parameters(), lr=0.001)"
   ]
  },
  {
   "cell_type": "code",
   "execution_count": 5,
   "metadata": {},
   "outputs": [
    {
     "name": "stdout",
     "output_type": "stream",
     "text": [
      "Epoch [1/10], Loss: 0.4668\n",
      "Epoch [2/10], Loss: 0.3367\n",
      "Epoch [3/10], Loss: 0.2836\n",
      "Epoch [4/10], Loss: 0.2473\n",
      "Epoch [5/10], Loss: 0.2231\n",
      "Epoch [6/10], Loss: 0.2007\n",
      "Epoch [7/10], Loss: 0.1862\n",
      "Epoch [8/10], Loss: 0.1688\n",
      "Epoch [9/10], Loss: 0.1619\n",
      "Epoch [10/10], Loss: 0.1497\n"
     ]
    }
   ],
   "source": [
    "# Training Loop\n",
    "num_epochs = 10  \n",
    "for epoch in range(num_epochs):\n",
    "    model.train()\n",
    "    running_loss = 0.0\n",
    "    for inputs, labels in train_loader:\n",
    "        optimizer.zero_grad()\n",
    "        \n",
    "        outputs = model(inputs)  \n",
    "        \n",
    "        if labels.dim() > 1:  \n",
    "            labels = labels.argmax(dim=1) \n",
    "        \n",
    "        loss = criterion(outputs, labels)\n",
    "        loss.backward()\n",
    "        optimizer.step()\n",
    "        \n",
    "        running_loss += loss.item()\n",
    "    \n",
    "    print(f'Epoch [{epoch+1}/{num_epochs}], Loss: {running_loss/len(train_loader):.4f}')"
   ]
  },
  {
   "cell_type": "code",
   "execution_count": 6,
   "metadata": {},
   "outputs": [
    {
     "name": "stdout",
     "output_type": "stream",
     "text": [
      "Test Accuracy: 94.18%\n"
     ]
    }
   ],
   "source": [
    "# Evaluation Loop\n",
    "model.eval()\n",
    "correct = 0\n",
    "total = 0\n",
    "\n",
    "with torch.no_grad():\n",
    "    for inputs, labels in test_loader:\n",
    "        outputs = model(inputs)\n",
    "        \n",
    "        if labels.dim() > 1:  \n",
    "            labels = labels.argmax(dim=1)\n",
    "        \n",
    "        _, predicted = torch.max(outputs, 1)  \n",
    "        \n",
    "        total += labels.size(0)\n",
    "        correct += (predicted == labels).sum().item()\n",
    "\n",
    "accuracy = 100 * correct / total\n",
    "print(f'Test Accuracy: {accuracy:.2f}%')"
   ]
  }
 ],
 "metadata": {
  "kernelspec": {
   "display_name": "Python 3",
   "language": "python",
   "name": "python3"
  },
  "language_info": {
   "codemirror_mode": {
    "name": "ipython",
    "version": 3
   },
   "file_extension": ".py",
   "mimetype": "text/x-python",
   "name": "python",
   "nbconvert_exporter": "python",
   "pygments_lexer": "ipython3",
   "version": "3.12.3"
  }
 },
 "nbformat": 4,
 "nbformat_minor": 2
}
